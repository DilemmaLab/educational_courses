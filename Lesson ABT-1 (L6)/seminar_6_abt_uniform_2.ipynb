#!/usr/local/bin/python3
# -*- coding: utf-8 -*-
from time import time
import matplotlib.pyplot as plt
import numpy as np

np.random.seed(int(time()))
 
distribution = (np.random.rand(50)*100).astype(int) 
center = np.ones(5) * 50
high_outliers = (np.random.rand(10)*200).astype(int)
low_outliers = (np.random.rand(10)*-100).astype(int)
series = np.concatenate((distribution, center, high_outliers, low_outliers))
pd.Series(series).plot.hist(bins = 50)
