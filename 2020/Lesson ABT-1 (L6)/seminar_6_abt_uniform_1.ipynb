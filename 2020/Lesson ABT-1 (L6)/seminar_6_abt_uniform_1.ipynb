#!/usr/local/bin/python3
# -*- coding: utf-8 -*-
from time import time
import matplotlib.pyplot as plt
import numpy as np

# 1) set random seed as current timestamp = seconds from 1970-01-01 00:00:00
np.random.seed(int(time())) 
# 2) np.random.rand(n) returns 1-dimensional np.array() 
# of n values distributed uniformly over [0, 1)
series = (np.random.rand(50)*100).astype(int) 
pd.Series(series).plot.box()
