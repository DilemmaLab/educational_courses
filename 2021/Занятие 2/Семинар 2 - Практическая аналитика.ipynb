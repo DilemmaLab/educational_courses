{
 "cells": [
  {
   "cell_type": "markdown",
   "id": "center-identifier",
   "metadata": {},
   "source": [
    "### Python Style-guide "
   ]
  },
  {
   "cell_type": "code",
   "execution_count": 5,
   "id": "backed-magnet",
   "metadata": {},
   "outputs": [],
   "source": [
    "#!/usr/local/bin/python3\n",
    "# -*- coding: utf-8 -*-\n",
    "\n",
    "# \"\"\"\n",
    "# -*- Annotation: -*-\n",
    "# shebang-line and encoding derictive:\n",
    "# PEP 394: The \"python\" Command on Unix-Like Systems https://www.python.org/dev/peps/pep-0394/\n",
    "# PEP 263: Defining Python Source Code Encodings https://www.python.org/dev/peps/pep-0263/\n",
    "# \"\"\"\n"
   ]
  },
  {
   "cell_type": "code",
   "execution_count": 6,
   "id": "inner-drove",
   "metadata": {},
   "outputs": [],
   "source": [
    "#!/usr/local/bin/python3 \n",
    "# -*- coding: utf-8 -*-\n",
    "import matplotlib.pyplot as plt \n",
    "import numpy as np\n",
    "# \"\"\"\n",
    "# -*- Annotation: -*-\n",
    "# numpy - is a library for working with linear algebra forms:\n",
    "# numpy is a basis of pandas, scipy and sklearn data structures and types \"\"\""
   ]
  },
  {
   "cell_type": "markdown",
   "id": "indie-metropolitan",
   "metadata": {},
   "source": [
    "### Непрерывное распределение"
   ]
  },
  {
   "cell_type": "code",
   "execution_count": 35,
   "id": "declared-nowhere",
   "metadata": {},
   "outputs": [
    {
     "data": {
      "text/plain": [
       "<AxesSubplot:>"
      ]
     },
     "execution_count": 35,
     "metadata": {},
     "output_type": "execute_result"
    },
    {
     "data": {
      "image/png": "[encoded data removed]",
      "text/plain": [
       "<Figure size 432x288 with 1 Axes>"
      ]
     },
     "metadata": {
      "needs_background": "light"
     },
     "output_type": "display_data"
    }
   ],
   "source": [
    "#!/usr/local/bin/python3\n",
    "# -*- coding: utf-8 -*-\n",
    "from time import time\n",
    "import matplotlib.pyplot as plt \n",
    "import numpy as np\n",
    "import pandas as pd\n",
    "# 1) set random seed as current timestamp = seconds from 1970-01-01 00:00:00\n",
    "np.random.seed(int(time()))\n",
    "# 2) np.random.rand(n) returns 1-dimensional np.array() \n",
    "# of n values distributed uniformly over [0, 1)\n",
    "series = (np.random.rand(50)*100).astype(int) \n",
    "pd.Series(series).plot.box()"
   ]
  },
  {
   "cell_type": "code",
   "execution_count": 46,
   "id": "amateur-parish",
   "metadata": {},
   "outputs": [
    {
     "data": {
      "text/plain": [
       "<AxesSubplot:ylabel='Frequency'>"
      ]
     },
     "execution_count": 46,
     "metadata": {},
     "output_type": "execute_result"
    },
    {
     "data": {
      "image/png": "[encoded data removed]",
      "text/plain": [
       "<Figure size 432x288 with 1 Axes>"
      ]
     },
     "metadata": {
      "needs_background": "light"
     },
     "output_type": "display_data"
    }
   ],
   "source": [
    "pd.Series(series).plot.hist(bins=bins)"
   ]
  },
  {
   "cell_type": "code",
   "execution_count": 47,
   "id": "blank-monroe",
   "metadata": {},
   "outputs": [
    {
     "data": {
      "image/png": "[encoded data removed]",
      "text/plain": [
       "<Figure size 432x288 with 1 Axes>"
      ]
     },
     "metadata": {
      "needs_background": "light"
     },
     "output_type": "display_data"
    }
   ],
   "source": [
    "_, bins, _ = plt.hist(series)\n",
    "plt.plot(bins, np.ones_like(bins), linewidth=2, color='r')\n",
    "plt.show()"
   ]
  },
  {
   "cell_type": "code",
   "execution_count": 38,
   "id": "collective-eating",
   "metadata": {
    "scrolled": true
   },
   "outputs": [
    {
     "data": {
      "text/plain": [
       "<AxesSubplot:>"
      ]
     },
     "execution_count": 38,
     "metadata": {},
     "output_type": "execute_result"
    },
    {
     "data": {
      "image/png": "[encoded data removed]",
      "text/plain": [
       "<Figure size 432x288 with 1 Axes>"
      ]
     },
     "metadata": {
      "needs_background": "light"
     },
     "output_type": "display_data"
    }
   ],
   "source": [
    "series_2 = np.random.uniform(low=0.0, high=100.0, size=50)\n",
    "pd.Series(series_2).plot.box()"
   ]
  },
  {
   "cell_type": "code",
   "execution_count": 48,
   "id": "secure-leisure",
   "metadata": {},
   "outputs": [
    {
     "data": {
      "image/png": "[encoded data removed]",
      "text/plain": [
       "<Figure size 432x288 with 1 Axes>"
      ]
     },
     "metadata": {
      "needs_background": "light"
     },
     "output_type": "display_data"
    }
   ],
   "source": [
    "_, bins, _ = plt.hist(series_2) \n",
    "plt.plot(bins, np.ones_like(bins), linewidth=2, color='r')\n",
    "plt.show()"
   ]
  },
  {
   "cell_type": "markdown",
   "id": "adverse-incentive",
   "metadata": {},
   "source": [
    "### Непрерывное распределение с выбросами: диаграмма размаха и гистограмма"
   ]
  },
  {
   "cell_type": "code",
   "execution_count": 62,
   "id": "built-sleeve",
   "metadata": {},
   "outputs": [
    {
     "data": {
      "text/plain": [
       "<AxesSubplot:ylabel='Density'>"
      ]
     },
     "execution_count": 62,
     "metadata": {},
     "output_type": "execute_result"
    },
    {
     "data": {
      "image/png": "[encoded data removed]",
      "text/plain": [
       "<Figure size 432x288 with 1 Axes>"
      ]
     },
     "metadata": {
      "needs_background": "light"
     },
     "output_type": "display_data"
    }
   ],
   "source": [
    "#!/usr/local/bin/python3\n",
    "# -*- coding: utf-8 -*-\n",
    "from time import time\n",
    "import matplotlib.pyplot as plt \n",
    "import numpy as np\n",
    "np.random.seed(int(time()))\n",
    "distribution = (np.random.rand(50)*100).astype(int)\n",
    "center = np.ones(5) * 50\n",
    "high_outliers = (np.random.rand(10)*200).astype(int)\n",
    "low_outliers = (np.random.rand(10)*-100).astype(int)\n",
    "series = np.concatenate((distribution, center, high_outliers, low_outliers)) \n",
    "pd.Series(series).plot.hist(bins = 50)"
   ]
  },
  {
   "cell_type": "code",
   "execution_count": 63,
   "id": "recent-correspondence",
   "metadata": {},
   "outputs": [
    {
     "data": {
      "text/plain": [
       "<AxesSubplot:ylabel='Density'>"
      ]
     },
     "execution_count": 63,
     "metadata": {},
     "output_type": "execute_result"
    },
    {
     "data": {
      "image/png": "[encoded data removed]",
      "text/plain": [
       "<Figure size 432x288 with 1 Axes>"
      ]
     },
     "metadata": {
      "needs_background": "light"
     },
     "output_type": "display_data"
    }
   ],
   "source": [
    "pd.Series(series).plot.density()"
   ]
  },
  {
   "cell_type": "code",
   "execution_count": 67,
   "id": "overall-basketball",
   "metadata": {},
   "outputs": [
    {
     "name": "stderr",
     "output_type": "stream",
     "text": [
      "/usr/local/lib/python3.9/site-packages/seaborn/distributions.py:2619: FutureWarning: `distplot` is a deprecated function and will be removed in a future version. Please adapt your code to use either `displot` (a figure-level function with similar flexibility) or `histplot` (an axes-level function for histograms).\n",
      "  warnings.warn(msg, FutureWarning)\n"
     ]
    },
    {
     "data": {
      "text/plain": [
       "<AxesSubplot:ylabel='Density'>"
      ]
     },
     "execution_count": 67,
     "metadata": {},
     "output_type": "execute_result"
    },
    {
     "data": {
      "image/png": "[encoded data removed]",
      "text/plain": [
       "<Figure size 432x288 with 1 Axes>"
      ]
     },
     "metadata": {
      "needs_background": "light"
     },
     "output_type": "display_data"
    }
   ],
   "source": [
    "import seaborn as sns\n",
    "sns.distplot(series)"
   ]
  }
 ],
 "metadata": {
  "kernelspec": {
   "display_name": "Python 3",
   "language": "python",
   "name": "python3"
  },
  "language_info": {
   "codemirror_mode": {
    "name": "ipython",
    "version": 3
   },
   "file_extension": ".py",
   "mimetype": "text/x-python",
   "name": "python",
   "nbconvert_exporter": "python",
   "pygments_lexer": "ipython3",
   "version": "3.9.5"
  }
 },
 "nbformat": 4,
 "nbformat_minor": 5
}
