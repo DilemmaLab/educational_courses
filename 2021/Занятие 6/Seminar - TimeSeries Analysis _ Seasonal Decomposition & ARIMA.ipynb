{
 "cells": [
  {
   "cell_type": "code",
   "execution_count": null,
   "metadata": {
    "ExecuteTime": {
     "end_time": "2019-01-30T22:19:16.963449Z",
     "start_time": "2019-01-30T22:19:16.952310Z"
    }
   },
   "outputs": [],
   "source": [
    "import pandas as pd\n",
    "from statsmodels.tsa.seasonal import seasonal_decompose\n",
    "\n",
    "import statsmodels as sm\n",
    "\n",
    "import matplotlib.pyplot as plt\n",
    "%matplotlib inline\n",
    "\n",
    "from stldecompose import decompose, forecast\n",
    "from stldecompose.forecast_funcs import (naive,\n",
    "                                         drift, \n",
    "                                         mean, \n",
    "                                         seasonal_naive)\n",
    "data = pd.read_csv('Data/data_time_series.csv', sep = ',')\n",
    "data['Period'] = pd.to_datetime(data['Period'])"
   ]
  },
  {
   "cell_type": "markdown",
   "metadata": {},
   "source": [
    "## 1. Интерполяция (сглаживание) [Первый этап]"
   ]
  },
  {
   "cell_type": "code",
   "execution_count": null,
   "metadata": {
    "ExecuteTime": {
     "end_time": "2019-01-30T22:20:23.510122Z",
     "start_time": "2019-01-30T22:20:23.244378Z"
    }
   },
   "outputs": [],
   "source": [
    "# 1. Just Approximation:\n",
    "import numpy as np\n",
    "from datetime import datetime\n",
    "\n",
    "dta = data\n",
    "\n",
    "dta['Period'] = dta['Period'].apply(lambda x: datetime.strptime(''.join(str(x).split(' ')[:-1]), '%Y-%m-%d'))\n",
    "\n",
    "\n",
    "plt.figure(figsize=(15,7))\n",
    "plt.plot(dta['Period'].values.astype('datetime64[D]'), dta['y'].values)\n",
    "\n",
    "\n",
    "n_data = len(dta['Period'].values.astype('datetime64[D]'))\n",
    "\n",
    "# y = x^3*a3 + x^2*a2 + x*a1 + a0\n",
    "model = np.polyfit(x = np.arange(n_data), y = np.array(dta['y']), deg = min_deg)\n",
    "polynom = np.poly1d(model)\n",
    "\n",
    "plt.plot(dta['Period'].values.astype('datetime64[D]'), polynom( np.arange(n_data) ), 'b--')\n",
    "# x = [x1, x2, x3, x4, x5] = [1,2,3,4,5]\n",
    "# y1 = x1^3*a3 + x1^2*a2 + x1*a1 + a0\n",
    "# y2 = x2^3*a3 + x2^2*a2 + x3*a1 + a0\n",
    "# y3 = x3^3*a3 + x3^2*a2 + x3*a1 + a0\n",
    "# y = [y1, y2, y3, y4, y5]\n",
    "\n",
    "\n",
    "from sklearn.metrics import r2_score, mean_squared_error, mean_absolute_error\n",
    "import ml_metrics as metrics\n",
    "\n",
    "print '\\n\\nR^2: %1.9f' % r2_score(dta['y'], polynom( np.arange(n_data) ))\n",
    "print '\\nRMSE (ml_metrics.metrics): %.9f' % metrics.rmse(dta['y'], polynom( np.arange(n_data) ))\n",
    "print 'RMSE (scikit-learn): %.9f' % np.sqrt(mean_squared_error(dta['y'], polynom( np.arange(n_data) )))\n",
    "print 'MAE (ml_metrics.metrics): %.9f' % metrics.mae(dta['y'], polynom( np.arange(n_data) ))\n",
    "print 'MAE (scikit-learn): %.9f' % mean_absolute_error(dta['y'], polynom( np.arange(n_data) ))\n"
   ]
  },
  {
   "cell_type": "code",
   "execution_count": null,
   "metadata": {
    "ExecuteTime": {
     "end_time": "2019-01-30T22:19:56.484417Z",
     "start_time": "2019-01-30T22:19:55.296915Z"
    }
   },
   "outputs": [],
   "source": [
    "# https://stackoverflow.com/questions/47442102/how-to-find-the-best-degree-of-polynomials\n",
    "import numpy as np\n",
    "import matplotlib.pyplot as plt \n",
    "\n",
    "from sklearn.linear_model import LinearRegression\n",
    "from sklearn.preprocessing import PolynomialFeatures\n",
    "from sklearn.metrics import mean_squared_error, mean_absolute_error\n",
    "from sklearn.model_selection import train_test_split\n",
    "from datetime import datetime\n",
    "\n",
    "from sklearn.metrics import r2_score\n",
    "import ml_metrics as metrics\n",
    "\n",
    "dta = data\n",
    "dta['Period'] = dta['Period'].apply(lambda x: datetime.strptime(''.join(str(x).split(' ')[:-1]), '%Y-%m-%d'))\n",
    "\n",
    "n_data = len(dta['Period'].values.astype('datetime64[D]'))\n",
    "X = np.arange(n_data).reshape(n_data, 1)\n",
    "y = np.array(dta['y'])\n",
    "\n",
    "x_train, x_test, y_train, y_test = train_test_split(X, y, test_size=0.3)\n",
    "\n",
    "rmses = []\n",
    "maes = []\n",
    "r2_scores = []\n",
    "degrees = np.arange(1, 100)\n",
    "min_rmse, min_mae, min_r2, min_deg, min_deg_mae, min_deg_r2 = 1e10, 1e10, 0.01, 0, 0, 0\n",
    "\n",
    "for deg in degrees:\n",
    "\n",
    "    # Train features\n",
    "    poly_features = PolynomialFeatures(degree=deg, include_bias=False)\n",
    "    x_poly_train = poly_features.fit_transform(x_train)\n",
    "\n",
    "    # Linear regression\n",
    "    poly_reg = LinearRegression()\n",
    "    poly_reg.fit(x_poly_train, y_train)\n",
    "\n",
    "    # Compare with test data\n",
    "    x_poly_test = poly_features.fit_transform(x_test)\n",
    "    poly_predict = poly_reg.predict(x_poly_test)\n",
    "    \n",
    "    # 1. RMSE:\n",
    "    poly_mse = mean_squared_error(y_test, poly_predict) # Mean Square Error\n",
    "    poly_rmse = np.sqrt(poly_mse) # Root Mean Square Root\n",
    "    rmses.append(poly_rmse)\n",
    "    \n",
    "    # 2. MAE:\n",
    "    poly_mae = mean_absolute_error(y_test, poly_predict)\n",
    "    maes.append(poly_mae)\n",
    "    \n",
    "    # 3. R2 - score:\n",
    "    poly_r2_score = r2_score(y_test.tolist(), poly_predict.tolist())\n",
    "    r2_scores.append(poly_r2_score)\n",
    "\n",
    "    # Cross-validation of degree\n",
    "    if min_rmse > poly_rmse:\n",
    "        min_rmse = poly_rmse\n",
    "        min_deg = deg\n",
    "    if min_mae > poly_mae:\n",
    "        min_mae = poly_mae\n",
    "        min_deg_mae = deg\n",
    "    if min_r2 < poly_r2_score:\n",
    "        min_r2 = poly_r2_score\n",
    "        min_deg_r2 = deg\n",
    "\n",
    "# Plot and present results\n",
    "print('Best degree {} with RMSE {},\\n\\t\\t {} with MAE {},\\n\\t\\t {} with R2 {}'.format(min_deg, min_rmse, min_deg_mae, min_mae, min_deg_r2, min_r2))\n",
    "\n",
    "fig = plt.figure()\n",
    "ax = fig.add_subplot(111)\n",
    "ax.plot(degrees, rmses)\n",
    "ax2 = ax.twinx()\n",
    "ax.plot(degrees, maes, 'b-.')\n",
    "ax2.plot(degrees, r2_scores, 'g--')\n",
    "ax.set_yscale('log')\n",
    "ax.set_xlabel('Degree')\n",
    "ax2.set_ylabel('R2')\n",
    "ax.set_ylabel('MAE')\n",
    "ax.set_ylabel('RMSE')"
   ]
  },
  {
   "cell_type": "code",
   "execution_count": null,
   "metadata": {
    "ExecuteTime": {
     "end_time": "2019-01-30T22:20:33.060239Z",
     "start_time": "2019-01-30T22:20:32.455032Z"
    }
   },
   "outputs": [],
   "source": [
    "import matplotlib\n",
    "matplotlib.colors\n",
    "matplotlib.colors.rgb_to_hsv\n",
    "matplotlib.colors.to_rgba\n",
    "matplotlib.figure.Figure.get_size_inches\n",
    "matplotlib.figure.Figure.subplots_adjust\n",
    "matplotlib.axes.Axes.text\n",
    "matplotlib.axes.Axes.hlines\n",
    "\n",
    "dta = data\n",
    "dta['Date'] = pd.to_datetime(dta['Period'])\n",
    "dta = dta.set_index('Date')\n",
    "\n",
    "# 1. Multiplicative \n",
    "# 1.1. Weekly\n",
    "res_ymw = seasonal_decompose(dta['y'], model='multiplicative', freq = 7)\n",
    "# 1.2. Monthly\n",
    "res_ymm = seasonal_decompose(dta['y'], model='multiplicative', freq = 30)\n",
    "\n",
    "# 2. Additive \n",
    "# 2.1. Weekly\n",
    "res_yaw = seasonal_decompose(dta['y'], model='additive', freq = 7)\n",
    "# 2.2. Monthly\n",
    "res_yam = seasonal_decompose(dta['y'], model='additive', freq = 30)\n",
    "\n",
    "# 3. STL-Lib Decompopsition by LOESS - Logistic Regression:\n",
    "stl_y = decompose(dta[['y']], period=7)\n",
    "\n",
    "\n",
    "# Just Aggregation:\n",
    "# 1. Not Aggregated:\n",
    "res_y = dta.y\n",
    "\n",
    "# 2. Aggregated by Week (Moving Median):\n",
    "res_ymedw = dta.y.resample('W').mean()\n",
    "\n",
    "# 3. Aggregated by Month (Moving Median):\n",
    "res_ymedm = dta.y.resample('M').mean()\n",
    "\n",
    "\n",
    "# Plotting Charts:\n",
    "plt.figure(figsize=(25,11))\n",
    "plt.plot(res_ymw.trend, '--', label='Samara_Trend_Multi_7', color='darkgreen')\n",
    "plt.plot(res_ymm.trend, '--', label='Samara_Trend_Multi_30', color='darkgreen')\n",
    "plt.plot(res_yaw.trend, '--', label='Samara_Trend_Add_7', color='darkgreen')\n",
    "plt.plot(res_yam.trend, '--', label='Samara_Trend_Add_30', color='darkgreen')\n",
    "plt.plot(stl_y.trend, '-o', label='Samara_STL_Trend', color='darkgreen')\n",
    "\n",
    "plt.plot(dta['y'], '-', label='Samara_Original', color='lime')\n",
    "plt.plot(res_ymedw, 'g-.', label='Samara_Weekly_Megian')\n",
    "plt.plot(res_ymedm, 'g-.', label='Samara_Monthy_Megian')\n",
    "plt.plot(dta['Period'].values.astype('datetime64[D]'), polynom( np.arange(n_data) ), 'b-o')\n",
    "plt.legend(bbox_to_anchor=(1.05, 1), loc=2, borderaxespad=0.)\n",
    "plt.show()"
   ]
  },
  {
   "cell_type": "markdown",
   "metadata": {},
   "source": [
    "## 2. Экстраполяция aka Прогноз "
   ]
  },
  {
   "cell_type": "code",
   "execution_count": null,
   "metadata": {
    "ExecuteTime": {
     "end_time": "2019-01-30T22:20:42.656637Z",
     "start_time": "2019-01-30T22:20:42.643797Z"
    },
    "scrolled": true
   },
   "outputs": [],
   "source": [
    "polynom( np.arange(n_data) )"
   ]
  },
  {
   "cell_type": "markdown",
   "metadata": {},
   "source": [
    "### Данные за вычетом тренда:"
   ]
  },
  {
   "cell_type": "code",
   "execution_count": null,
   "metadata": {
    "ExecuteTime": {
     "end_time": "2019-01-31T13:24:52.637457Z",
     "start_time": "2019-01-31T13:24:52.059344Z"
    },
    "scrolled": false
   },
   "outputs": [],
   "source": [
    "# 1. ARIMA (для MA)\n",
    "### Свойства временного ряда\n",
    "\n",
    "# Коррелограмма:\n",
    "# ARIMA(p of AR, q, d of MA)\n",
    "trend = pd.DataFrame(data=(dta.y - polynom(np.arange(n_data)) ) )\n",
    "y1diff = trend.diff(periods=1).dropna() # Первая разность ряда\n",
    "# y1diff = np.array([trend[1] - trend[0], trend[2] - trend[1], ...])\n",
    "\n",
    "# AdFuller: (Единичные корни)\n",
    "# Original:\n",
    "test = sm.tsa.stattools.adfuller(trend.iloc[:,0].values)\n",
    "print 'ADF: ', test[0] \n",
    "print 'p-value: ', test[1]\n",
    "print'Critical values: ', test[4]\n",
    "if test[0]> test[4]['5%']: \n",
    "    print 'есть единичные корни, ряд не стационарен'\n",
    "else:\n",
    "    print 'единичных корней нет, ряд стационарен'\n",
    "# Единичные корни: Первая разность ряда\n",
    "test = sm.tsa.stattools.adfuller(y1diff.iloc[:,0].values)\n",
    "print 'ADF: ', test[0]\n",
    "print 'p-value: ', test[1]\n",
    "print'Critical values: ', test[4]\n",
    "if test[0]> test[4]['5%']: \n",
    "    print 'есть единичные корни, ряд не стационарен'\n",
    "else:\n",
    "    print 'единичных корней нет, ряд стационарен'\n",
    "    \n",
    "# y2diff = trend.diff(periods=2).dropna() # Вторая разность ряда   \n",
    "# Единичные корни: Вторая разность ряда\n",
    "test = sm.tsa.stattools.adfuller(y2diff.iloc[:,0].values)\n",
    "print 'ADF: ', test[0]\n",
    "print 'p-value: ', test[1]\n",
    "print'Critical values: ', test[4]\n",
    "if test[0]> test[4]['5%']: \n",
    "    print 'есть единичные корни, ряд не стационарен'\n",
    "else:\n",
    "    print 'единичных корней нет, ряд стационарен'\n",
    "\n",
    "fig = plt.figure(figsize=(12,8))\n",
    "plt.title('Ishodniy Ryad', loc='left')\n",
    "ax1 = fig.add_subplot(211)\n",
    "# ACF: p=25\n",
    "fig = sm.api.graphics.tsa.plot_acf(trend_indexed.values.squeeze(), lags=8, ax=ax1)\n",
    "# Take a look at Number of Lags!!!! lags=20, 25, 30, 100, ... etc.: coef_autocor = 0.75 at 21st\n",
    "ax2 = fig.add_subplot(212)\n",
    "# PACF: q=2\n",
    "fig = sm.api.graphics.tsa.plot_pacf(trend_indexed, lags=8\n",
    "                                    , ax=ax2)\n"
   ]
  },
  {
   "cell_type": "code",
   "execution_count": null,
   "metadata": {
    "ExecuteTime": {
     "end_time": "2019-01-09T17:05:53.235172Z",
     "start_time": "2019-01-09T17:05:53.211574Z"
    },
    "scrolled": true
   },
   "outputs": [],
   "source": [
    "trend = pd.DataFrame(data=dta.y - polynom(np.arange(n_data)) )\n",
    "trend"
   ]
  },
  {
   "cell_type": "code",
   "execution_count": null,
   "metadata": {
    "ExecuteTime": {
     "end_time": "2019-01-10T15:34:55.126958Z",
     "start_time": "2019-01-10T15:34:55.110301Z"
    }
   },
   "outputs": [],
   "source": [
    "res_ymedm"
   ]
  },
  {
   "cell_type": "markdown",
   "metadata": {},
   "source": [
    "### Данные на тренде:"
   ]
  },
  {
   "cell_type": "code",
   "execution_count": null,
   "metadata": {
    "ExecuteTime": {
     "end_time": "2019-01-30T23:04:30.489148Z",
     "start_time": "2019-01-30T23:04:29.754854Z"
    }
   },
   "outputs": [],
   "source": [
    "# https://people.duke.edu/~rnau/411arim.htm#pdq\n",
    "# https://onlinecourses.science.psu.edu/stat501/node/358/\n",
    "from statsmodels.tsa.ar_model import AR\n",
    "import statsmodels as sm\n",
    "\n",
    "src_data_model = res_ymw.trend['2018-02-21':'2018-11-19'].apply(lambda x: int(x))\n",
    "\n",
    "model = sm.tsa.arima_model.ARIMA(src_data_model, (1,0,1))\n",
    "model = model.fit()\n",
    "model.predict(start='2018-11-10', end='2018-11-25')\n",
    "\n",
    "from sklearn.metrics import r2_score\n",
    "import ml_metrics as metrics\n",
    "\n",
    "pred = model.predict('2018-02-22', '2018-11-30')#, typ='levels')\n",
    "trn = res_ymw.trend['2018-02-21':]\n",
    "r2 = r2_score(trn[1:271], pred[1:271])\n",
    "print 'R^2: %1.2f' % r2\n",
    "\n",
    "print metrics.rmse(trn[1:271], pred[1:271])\n",
    "print metrics.mae(trn[1:271], pred[1:271])\n",
    "\n",
    "res_ymw.trend['2018-02-21':'2018-11-30'].apply(lambda x: int(x)).plot(figsize=(12,6))\n",
    "#src_data_model.plot()\n",
    "pred.plot(style='r--')\n"
   ]
  },
  {
   "cell_type": "code",
   "execution_count": null,
   "metadata": {
    "ExecuteTime": {
     "end_time": "2019-01-30T22:23:58.891188Z",
     "start_time": "2019-01-30T22:23:58.224069Z"
    }
   },
   "outputs": [],
   "source": [
    "# https://people.duke.edu/~rnau/411arim.htm#pdq\n",
    "# https://onlinecourses.science.psu.edu/stat501/node/358/\n",
    "from statsmodels.tsa.ar_model import AR\n",
    "import statsmodels as sm\n",
    "\n",
    "src_data_model = res_ymw.trend['2018-02-21':'2018-11-19'].apply(lambda x: int(x))\n",
    "\n",
    "model = sm.tsa.arima_model.ARIMA(src_data_model, (1,0,5))\n",
    "model = model.fit()\n",
    "model.predict(start='2018-11-20', end='2018-11-25')\n",
    "\n",
    "from sklearn.metrics import r2_score\n",
    "import ml_metrics as metrics\n",
    "\n",
    "pred = model.predict('2018-02-23', '2018-11-30')#, typ='levels')\n",
    "trn = res_ymw.trend['2018-02-21':]\n",
    "r2 = r2_score(trn[1:271], pred[1:271])\n",
    "print 'R^2: %1.2f' % r2\n",
    "\n",
    "print metrics.rmse(trn[1:271], pred[1:271])\n",
    "print metrics.mae(trn[1:271], pred[1:271])\n",
    "\n",
    "res_ymw.trend['2018-02-21':'2018-11-30'].apply(lambda x: int(x)).plot(figsize=(12,6))\n",
    "#src_data_model.plot()\n",
    "pred.plot(style='r--')"
   ]
  },
  {
   "cell_type": "code",
   "execution_count": null,
   "metadata": {
    "ExecuteTime": {
     "end_time": "2019-01-10T09:37:12.667025Z",
     "start_time": "2019-01-10T09:37:12.400664Z"
    }
   },
   "outputs": [],
   "source": [
    "# Plotting Charts:\n",
    "plt.figure(figsize=(26,7))\n",
    "plt.plot(res_ymedm, 'g-.', label='Samara_Monthy_Megian')\n",
    "\n"
   ]
  },
  {
   "cell_type": "code",
   "execution_count": null,
   "metadata": {
    "ExecuteTime": {
     "end_time": "2019-01-10T12:06:27.916836Z",
     "start_time": "2019-01-10T12:06:27.903473Z"
    }
   },
   "outputs": [],
   "source": [
    "trend.head()"
   ]
  },
  {
   "cell_type": "code",
   "execution_count": null,
   "metadata": {
    "ExecuteTime": {
     "end_time": "2019-01-10T09:54:02.836917Z",
     "start_time": "2019-01-10T09:54:02.824149Z"
    }
   },
   "outputs": [],
   "source": [
    "y1diff.head()"
   ]
  },
  {
   "cell_type": "code",
   "execution_count": null,
   "metadata": {
    "ExecuteTime": {
     "end_time": "2019-01-10T10:03:01.283114Z",
     "start_time": "2019-01-10T10:03:01.184832Z"
    }
   },
   "outputs": [],
   "source": [
    "y1diff_indexed = y1diff\n",
    "y1diff_indexed.reset_index(inplace=True)\n",
    "y1diff_indexed['Date'] = pd.to_datetime(y1diff_indexed['Date'])\n",
    "y1diff_indexed = y1diff_indexed.set_index('Date')"
   ]
  },
  {
   "cell_type": "code",
   "execution_count": null,
   "metadata": {
    "ExecuteTime": {
     "end_time": "2019-01-10T10:03:29.174131Z",
     "start_time": "2019-01-10T10:03:29.161488Z"
    }
   },
   "outputs": [],
   "source": [
    "y1diff_indexed.head()"
   ]
  }
 ],
 "metadata": {
  "kernelspec": {
   "display_name": "Python 3",
   "language": "python",
   "name": "python3"
  },
  "language_info": {
   "codemirror_mode": {
    "name": "ipython",
    "version": 3
   },
   "file_extension": ".py",
   "mimetype": "text/x-python",
   "name": "python",
   "nbconvert_exporter": "python",
   "pygments_lexer": "ipython3",
   "version": "3.9.5"
  }
 },
 "nbformat": 4,
 "nbformat_minor": 2
}
