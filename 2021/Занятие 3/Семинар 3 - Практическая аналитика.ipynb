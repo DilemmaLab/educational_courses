{
 "cells": [
  {
   "cell_type": "markdown",
   "id": "informational-ownership",
   "metadata": {},
   "source": [
    "## Проверка статистической значимости: практическая часть\n",
    "### F-критерий Фишера"
   ]
  },
  {
   "cell_type": "code",
   "execution_count": 15,
   "id": "indoor-queue",
   "metadata": {},
   "outputs": [
    {
     "name": "stdout",
     "output_type": "stream",
     "text": [
      "Reject the H0: Var(X1) == Var(X2)\n",
      "\n"
     ]
    }
   ],
   "source": [
    "#!/usr/local/bin/python3\n",
    "# -*- coding: utf-8 -*-\n",
    "from time import time\n",
    "import numpy as np\n",
    "from scipy.stats import f_oneway\n",
    "\n",
    "np.random.seed(int(time())) \n",
    "series_1 = (np.random.rand(50)*100).astype(int) \n",
    "series_2 = (np.random.normal(size=50)*100).astype(int) \n",
    "alpha = 0.05 \n",
    "p_value = f_oneway(series_1, series_2)[1] \n",
    "print('{} the H0: Var(X1) == Var(X2)\\n'.format( {False:'Reject', True:'Confirm'}[p_value > alpha]))\n"
   ]
  },
  {
   "cell_type": "code",
   "execution_count": 27,
   "id": "variable-franchise",
   "metadata": {},
   "outputs": [
    {
     "name": "stdout",
     "output_type": "stream",
     "text": [
      "Reject the H0: Var(X1) == Var(X2)\n",
      "\n"
     ]
    }
   ],
   "source": [
    "series_1 = (np.random.rand(50)*100).astype(int) \n",
    "series_2 = (np.random.normal(size=50)*1000+400).astype(int) \n",
    "\n",
    "p_value = f_oneway(series_1, series_2)[1] \n",
    "print('{} the H0: Var(X1) == Var(X2)\\n'.format( {False:'Reject', True:'Confirm'}[p_value > alpha]))\n"
   ]
  },
  {
   "cell_type": "code",
   "execution_count": 31,
   "id": "located-wagner",
   "metadata": {},
   "outputs": [
    {
     "data": {
      "image/png": "[encoded data removed]",
      "text/plain": [
       "<Figure size 432x288 with 1 Axes>"
      ]
     },
     "metadata": {
      "needs_background": "light"
     },
     "output_type": "display_data"
    }
   ],
   "source": [
    "pd.Series(series_2).plot.hist()\n",
    "pd.Series(series_1).plot.hist()\n",
    "plt.show()"
   ]
  },
  {
   "cell_type": "code",
   "execution_count": 29,
   "id": "informed-position",
   "metadata": {},
   "outputs": [
    {
     "data": {
      "text/plain": [
       "<AxesSubplot:ylabel='Frequency'>"
      ]
     },
     "execution_count": 29,
     "metadata": {},
     "output_type": "execute_result"
    },
    {
     "data": {
      "image/png": "[encoded data removed]",
      "text/plain": [
       "<Figure size 432x288 with 1 Axes>"
      ]
     },
     "metadata": {
      "needs_background": "light"
     },
     "output_type": "display_data"
    }
   ],
   "source": [
    "pd.Series(series_2).plot.hist()"
   ]
  },
  {
   "cell_type": "markdown",
   "id": "provincial-aside",
   "metadata": {},
   "source": [
    "### Критерий Бартлетта"
   ]
  },
  {
   "cell_type": "code",
   "execution_count": 39,
   "id": "increased-clinton",
   "metadata": {},
   "outputs": [
    {
     "name": "stdout",
     "output_type": "stream",
     "text": [
      "BartlettResult(statistic=565.7176523941431, pvalue=1.4320976265734279e-123)\n",
      "Variances of distributions is not equal\n",
      "\n"
     ]
    }
   ],
   "source": [
    "#!/usr/local/bin/python3\n",
    "# -*- coding: utf-8 -*-\n",
    "\n",
    "import numpy as np\n",
    "from scipy.stats import bartlett\n",
    "\n",
    "alpha = 0.05 \n",
    "\n",
    "def bartlett_test(df1, df2, df3, p_value = alpha): \n",
    "\tst = bartlett(df1, df2, df3) \n",
    "\tprint(st)\n",
    "\tprint('Variances of distributions is {}equal\\n'.format( {True:'not ', False:''}[st[1] < p_value]))\n",
    "\n",
    "series_1 = (np.random.rand(50)*100).astype(int) \n",
    "series_2 = (np.random.normal(size=50)*100).astype(int)\n",
    "shape, scale = 2., 2. # mean=4, std=2*sqrt(2) \n",
    "series_3 = (np.random.gamma(shape, scale, 100)).astype(int) \n",
    "\n",
    "bartlett_test(series_1, series_2, series_3)\n"
   ]
  },
  {
   "cell_type": "code",
   "execution_count": 36,
   "id": "stopped-detroit",
   "metadata": {},
   "outputs": [
    {
     "name": "stdout",
     "output_type": "stream",
     "text": [
      "Variances of distributions is equal\n",
      "\n"
     ]
    }
   ],
   "source": [
    "bartlett_test(series_1, series_1, series_1)"
   ]
  },
  {
   "cell_type": "code",
   "execution_count": 34,
   "id": "demanding-decision",
   "metadata": {},
   "outputs": [
    {
     "data": {
      "image/png": "[encoded data removed]",
      "text/plain": [
       "<Figure size 432x288 with 1 Axes>"
      ]
     },
     "metadata": {
      "needs_background": "light"
     },
     "output_type": "display_data"
    }
   ],
   "source": [
    "# pd.Series(series_2).plot.hist()\n",
    "# pd.Series(series_1).plot.hist()\n",
    "pd.Series(series_3).plot.hist()\n",
    "plt.show()"
   ]
  },
  {
   "cell_type": "markdown",
   "id": "ordered-litigation",
   "metadata": {},
   "source": [
    "### Критерий Левена"
   ]
  },
  {
   "cell_type": "code",
   "execution_count": 3,
   "id": "south-ontario",
   "metadata": {},
   "outputs": [
    {
     "name": "stdout",
     "output_type": "stream",
     "text": [
      "Variances of distributions is not equal\n",
      "\n"
     ]
    }
   ],
   "source": [
    "#!/usr/local/bin/python3\n",
    "# -*- coding: utf-8 -*-\n",
    "\n",
    "import numpy as np\n",
    "from scipy.stats import levene\n",
    "\n",
    "alpha = 0.05 \n",
    "\n",
    "def levene_test(df1, df2, df3, p_value = alpha): \n",
    "\tst = levene(df1, df2, df3) \n",
    "\tprint('Variances of distributions is {}equal\\n'.format( {True:'not ', False:''}[st[1] < p_value]))\n",
    "\n",
    "series_1 = (np.random.rand(50)*100).astype(int) \n",
    "series_2 = (np.random.normal(size=50)*100).astype(int)\n",
    "shape, scale = 2., 2. # mean=4, std=2*sqrt(2) \n",
    "series_3 = (np.random.gamma(shape, scale, 100)).astype(int) \n",
    "\n",
    "levene_test(series_1, series_2, series_3)\n"
   ]
  },
  {
   "cell_type": "code",
   "execution_count": 41,
   "id": "governing-siemens",
   "metadata": {},
   "outputs": [
    {
     "name": "stdout",
     "output_type": "stream",
     "text": [
      "Variances of distributions is equal\n",
      "\n"
     ]
    }
   ],
   "source": [
    "series_2 = (np.random.normal(size=50)*100).astype(int)\n",
    "levene_test(series_2, series_2, series_2)"
   ]
  },
  {
   "cell_type": "markdown",
   "id": "perfect-visibility",
   "metadata": {},
   "source": [
    "### Критерий Колмогорова-Смирнова"
   ]
  },
  {
   "cell_type": "code",
   "execution_count": 43,
   "id": "native-throat",
   "metadata": {},
   "outputs": [
    {
     "name": "stdout",
     "output_type": "stream",
     "text": [
      "Distributions is normal\n",
      "\n"
     ]
    }
   ],
   "source": [
    "#!/usr/local/bin/python3\n",
    "# -*- coding: utf-8 -*-\n",
    "\n",
    "import numpy as np\n",
    "import pandas as pd\n",
    "from scipy.stats import kstest\n",
    "\n",
    "alpha = 0.05\n",
    "\n",
    "series = (np.random.normal(size=50)*100).astype(int) \n",
    "st = kstest(pd.Series(series), 'norm')\n",
    "\n",
    "print('Distributions is {}normal\\n'.format( {False:'not ', True:''}[st[1] < alpha]))"
   ]
  },
  {
   "cell_type": "markdown",
   "id": "crazy-prison",
   "metadata": {},
   "source": [
    "### Критерий Шапиро"
   ]
  },
  {
   "cell_type": "code",
   "execution_count": 44,
   "id": "amino-watts",
   "metadata": {},
   "outputs": [
    {
     "name": "stdout",
     "output_type": "stream",
     "text": [
      "Distributions is normal\n",
      "\n"
     ]
    }
   ],
   "source": [
    "#!/usr/local/bin/python3\n",
    "# -*- coding: utf-8 -*-\n",
    "\n",
    "import numpy as np\n",
    "import pandas as pd\n",
    "from scipy.stats import shapiro\n",
    "\n",
    "alpha = 0.05\n",
    "\n",
    "series = (np.random.normal(size=50)*100).astype(int) \n",
    "st = shapiro(pd.Series(series))\n",
    "\n",
    "print('Distributions is {}normal\\n'.format( {True:'not ', False:''}[st[1] < alpha]))\n"
   ]
  },
  {
   "cell_type": "markdown",
   "id": "attached-termination",
   "metadata": {},
   "source": [
    "### T-критерий Стьюдента: scipy.stats.ttest_ind"
   ]
  },
  {
   "cell_type": "code",
   "execution_count": 6,
   "id": "canadian-providence",
   "metadata": {},
   "outputs": [
    {
     "name": "stdout",
     "output_type": "stream",
     "text": [
      "Diffs is not significant\n",
      "\n",
      "0.837335507774107 0.05\n"
     ]
    }
   ],
   "source": [
    "#!/usr/local/bin/python3 # -*- coding: utf-8 -*-\n",
    "import numpy as np\n",
    "import pandas as pd\n",
    "from scipy.stats import ttest_ind\n",
    "import matplotlib.pyplot as plt\n",
    "%matplotlib inline\n",
    "alpha = 0.05\n",
    "series1 = (np.random.normal(size=50)*100).astype(int) \n",
    "series2 = (np.random.normal(size=50)*100).astype(int) \n",
    "st = ttest_ind(pd.Series(series1), pd.Series(series2))\n",
    " \n",
    "print('Diffs is {}significant\\n'.format( {False:'not ',\n",
    "True:''}[st[1] < alpha])) \n",
    "print(st[1], alpha)"
   ]
  },
  {
   "cell_type": "code",
   "execution_count": 7,
   "id": "fifteen-annotation",
   "metadata": {},
   "outputs": [
    {
     "data": {
      "text/plain": [
       "(array([1., 4., 1., 6., 9., 7., 9., 5., 6., 2.]),\n",
       " array([-249. , -204.2, -159.4, -114.6,  -69.8,  -25. ,   19.8,   64.6,\n",
       "         109.4,  154.2,  199. ]),\n",
       " <BarContainer object of 10 artists>)"
      ]
     },
     "execution_count": 7,
     "metadata": {},
     "output_type": "execute_result"
    },
    {
     "data": {
      "image/png": "[encoded data removed]",
      "text/plain": [
       "<Figure size 432x288 with 1 Axes>"
      ]
     },
     "metadata": {
      "needs_background": "light"
     },
     "output_type": "display_data"
    }
   ],
   "source": [
    "plt.hist(series2)\n",
    "plt.hist(series1)"
   ]
  },
  {
   "cell_type": "markdown",
   "id": "conservative-george",
   "metadata": {},
   "source": [
    "### U-критерий Манна-Уитни: scipy.stats.mannwhitneyu"
   ]
  },
  {
   "cell_type": "code",
   "execution_count": 8,
   "id": "defined-cheese",
   "metadata": {},
   "outputs": [
    {
     "name": "stdout",
     "output_type": "stream",
     "text": [
      "Diffs is not significant\n",
      "\n",
      "0.49587462017062295 0.05\n"
     ]
    }
   ],
   "source": [
    "#!/usr/local/bin/python3 # -*- coding: utf-8 -*-\n",
    "import numpy as np\n",
    "import pandas as pd\n",
    "from scipy.stats import mannwhitneyu\n",
    "alpha = 0.05\n",
    "series1 = (np.random.gamma(2, 2, 50)*100).astype(int) \n",
    "series2 = (np.random.gamma(2, 2, 50)*100).astype(int)\n",
    "st = mannwhitneyu(pd.Series(series1), pd.Series(series2))\n",
    " \n",
    "print('Diffs is {}significant\\n'.format( {False:'not ',\n",
    "True:''}[st[1] < alpha])) \n",
    "print(st[1], alpha)"
   ]
  },
  {
   "cell_type": "code",
   "execution_count": 47,
   "id": "sealed-ambassador",
   "metadata": {},
   "outputs": [
    {
     "name": "stdout",
     "output_type": "stream",
     "text": [
      "Diffs is not significant\n",
      "\n",
      "0.33077625754280754 0.05\n"
     ]
    }
   ],
   "source": [
    "series1 = (np.random.gamma(2, 2, 50)*100).astype(int) \n",
    "series2 = (np.random.gamma(2, 2, 50)*100).astype(int)\n",
    "st = mannwhitneyu(pd.Series(series1), pd.Series(series2))\n",
    " \n",
    "print('Diffs is {}significant\\n'.format( {False:'not ',\n",
    "True:''}[st[1] < alpha])) \n",
    "print(st[1], alpha)"
   ]
  },
  {
   "cell_type": "code",
   "execution_count": 48,
   "id": "damaged-letter",
   "metadata": {},
   "outputs": [
    {
     "data": {
      "text/plain": [
       "(array([12., 14.,  5.,  8.,  2.,  4.,  3.,  1.,  0.,  1.]),\n",
       " array([  97. ,  228.1,  359.2,  490.3,  621.4,  752.5,  883.6, 1014.7,\n",
       "        1145.8, 1276.9, 1408. ]),\n",
       " <BarContainer object of 10 artists>)"
      ]
     },
     "execution_count": 48,
     "metadata": {},
     "output_type": "execute_result"
    },
    {
     "data": {
      "image/png": "[encoded data removed]",
      "text/plain": [
       "<Figure size 432x288 with 1 Axes>"
      ]
     },
     "metadata": {
      "needs_background": "light"
     },
     "output_type": "display_data"
    }
   ],
   "source": [
    "plt.hist(series2)\n",
    "plt.hist(series1)"
   ]
  },
  {
   "cell_type": "code",
   "execution_count": 9,
   "id": "favorite-balance",
   "metadata": {},
   "outputs": [
    {
     "data": {
      "text/plain": [
       "(array([12., 15., 13.,  4.,  2.,  2.,  0.,  1.,  0.,  1.]),\n",
       " array([   8. ,  200.7,  393.4,  586.1,  778.8,  971.5, 1164.2, 1356.9,\n",
       "        1549.6, 1742.3, 1935. ]),\n",
       " <BarContainer object of 10 artists>)"
      ]
     },
     "execution_count": 9,
     "metadata": {},
     "output_type": "execute_result"
    },
    {
     "data": {
      "image/png": "[encoded data removed]",
      "text/plain": [
       "<Figure size 432x288 with 1 Axes>"
      ]
     },
     "metadata": {
      "needs_background": "light"
     },
     "output_type": "display_data"
    }
   ],
   "source": [
    "plt.hist(series2)\n",
    "plt.hist(series1)"
   ]
  },
  {
   "cell_type": "markdown",
   "id": "excited-programmer",
   "metadata": {},
   "source": [
    "### Расчёт необходимого объёма выборки для t-критерия Стьюдента"
   ]
  },
  {
   "cell_type": "code",
   "execution_count": 10,
   "id": "generic-parks",
   "metadata": {},
   "outputs": [
    {
     "data": {
      "image/png": "[encoded data removed]",
      "text/plain": [
       "<Figure size 432x288 with 1 Axes>"
      ]
     },
     "metadata": {
      "needs_background": "light"
     },
     "output_type": "display_data"
    }
   ],
   "source": [
    "#!/usr/local/bin/python3 # -*- coding: utf-8 -*-\n",
    "import matplotlib.pyplot as plt\n",
    "import numpy as np\n",
    "from statsmodels.stats.power import TTestIndPower\n",
    "# calculate power curves\n",
    "# for varying sample and effect size \n",
    "analysis = TTestIndPower() \n",
    "fig = analysis.plot_power(nobs=np.arange(5, 100), effect_size=np.array([0.2, 0.5, 0.8]))"
   ]
  },
  {
   "cell_type": "code",
   "execution_count": 11,
   "id": "initial-productivity",
   "metadata": {},
   "outputs": [
    {
     "name": "stdout",
     "output_type": "stream",
     "text": [
      "Sample Size: 2453.730\n"
     ]
    }
   ],
   "source": [
    "#!/usr/local/bin/python3 # -*- coding: utf-8 -*-\n",
    "import numpy as np\n",
    "from statsmodels.stats.power import TTestIndPower\n",
    "# parameters for power analysis\n",
    "effect = 0.08\n",
    "alpha = 0.05\n",
    "power = 0.8\n",
    "# perform power analysis\n",
    "analysis = TTestIndPower()\n",
    "result = analysis.solve_power(effect, power=power, nobs1=None, ratio=1.0, alpha=alpha)\n",
    "print('Sample Size: %.3f' % result) "
   ]
  }
 ],
 "metadata": {
  "kernelspec": {
   "display_name": "Python 3",
   "language": "python",
   "name": "python3"
  },
  "language_info": {
   "codemirror_mode": {
    "name": "ipython",
    "version": 3
   },
   "file_extension": ".py",
   "mimetype": "text/x-python",
   "name": "python",
   "nbconvert_exporter": "python",
   "pygments_lexer": "ipython3",
   "version": "3.9.5"
  }
 },
 "nbformat": 4,
 "nbformat_minor": 5
}
