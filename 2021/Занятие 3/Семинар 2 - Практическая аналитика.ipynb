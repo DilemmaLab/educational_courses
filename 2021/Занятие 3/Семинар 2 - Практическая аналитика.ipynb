{
 "cells": [
  {
   "cell_type": "markdown",
   "id": "center-identifier",
   "metadata": {},
   "source": [
    "### Python Style-guide "
   ]
  },
  {
   "cell_type": "code",
   "execution_count": 1,
   "id": "backed-magnet",
   "metadata": {},
   "outputs": [],
   "source": [
    "#!/usr/local/bin/python3\n",
    "# -*- coding: utf-8 -*-\n",
    "\n",
    "# \"\"\"\n",
    "# -*- Annotation: -*-\n",
    "# shebang-line and encoding derictive:\n",
    "# PEP 394: The \"python\" Command on Unix-Like Systems https://www.python.org/dev/peps/pep-0394/\n",
    "# PEP 263: Defining Python Source Code Encodings https://www.python.org/dev/peps/pep-0263/\n",
    "# \"\"\"\n"
   ]
  },
  {
   "cell_type": "code",
   "execution_count": 2,
   "id": "inner-drove",
   "metadata": {},
   "outputs": [],
   "source": [
    "#!/usr/local/bin/python3 \n",
    "# -*- coding: utf-8 -*-\n",
    "import matplotlib.pyplot as plt \n",
    "import numpy as np\n",
    "# \"\"\"\n",
    "# -*- Annotation: -*-\n",
    "# numpy - is a library for working with linear algebra forms:\n",
    "# numpy is a basis of pandas, scipy and sklearn data structures and types \"\"\""
   ]
  },
  {
   "cell_type": "markdown",
   "id": "indie-metropolitan",
   "metadata": {},
   "source": [
    "### Равномерное распределение"
   ]
  },
  {
   "cell_type": "code",
   "execution_count": 3,
   "id": "declared-nowhere",
   "metadata": {},
   "outputs": [
    {
     "name": "stdout",
     "output_type": "stream",
     "text": [
      "<function SQLDatabase.read_query at 0x12c7915e0>\n"
     ]
    },
    {
     "data": {
      "text/plain": [
       "<AxesSubplot:>"
      ]
     },
     "execution_count": 3,
     "metadata": {},
     "output_type": "execute_result"
    },
    {
     "data": {
      "image/png": "[encoded data removed]",
      "text/plain": [
       "<Figure size 432x288 with 1 Axes>"
      ]
     },
     "metadata": {
      "needs_background": "light"
     },
     "output_type": "display_data"
    }
   ],
   "source": [
    "#!/usr/local/bin/python3\n",
    "# -*- coding: utf-8 -*-\n",
    "from time import time\n",
    "import matplotlib.pyplot as plt \n",
    "import numpy as np\n",
    "import pandas as pd\n",
    "# 1) set random seed as current timestamp = seconds from 1970-01-01 00:00:00\n",
    "np.random.seed(int(time()))\n",
    "# 2) np.random.rand(n) returns 1-dimensional np.array() \n",
    "# of n values distributed uniformly over [0, 1)\n",
    "series = (np.random.rand(50)*100).astype(int) \n",
    "pd.Series(series).plot.box()"
   ]
  },
  {
   "cell_type": "code",
   "execution_count": 7,
   "id": "amateur-parish",
   "metadata": {},
   "outputs": [
    {
     "data": {
      "text/plain": [
       "<AxesSubplot:ylabel='Frequency'>"
      ]
     },
     "execution_count": 7,
     "metadata": {},
     "output_type": "execute_result"
    },
    {
     "data": {
      "image/png": "[encoded data removed]",
      "text/plain": [
       "<Figure size 432x288 with 1 Axes>"
      ]
     },
     "metadata": {
      "needs_background": "light"
     },
     "output_type": "display_data"
    }
   ],
   "source": [
    "pd.Series(series).plot.hist()"
   ]
  },
  {
   "cell_type": "code",
   "execution_count": 5,
   "id": "blank-monroe",
   "metadata": {},
   "outputs": [
    {
     "data": {
      "image/png": "[encoded data removed]",
      "text/plain": [
       "<Figure size 432x288 with 1 Axes>"
      ]
     },
     "metadata": {
      "needs_background": "light"
     },
     "output_type": "display_data"
    }
   ],
   "source": [
    "_, bins, _ = plt.hist(series)\n",
    "plt.plot(bins, np.ones_like(bins), linewidth=2, color='r')\n",
    "plt.show()"
   ]
  },
  {
   "cell_type": "code",
   "execution_count": 8,
   "id": "collective-eating",
   "metadata": {
    "scrolled": true
   },
   "outputs": [
    {
     "data": {
      "text/plain": [
       "<AxesSubplot:>"
      ]
     },
     "execution_count": 8,
     "metadata": {},
     "output_type": "execute_result"
    },
    {
     "data": {
      "image/png": "[encoded data removed]",
      "text/plain": [
       "<Figure size 432x288 with 1 Axes>"
      ]
     },
     "metadata": {
      "needs_background": "light"
     },
     "output_type": "display_data"
    }
   ],
   "source": [
    "series_2 = np.random.uniform(low=0.0, high=100.0, size=50)\n",
    "pd.Series(series_2).plot.box()"
   ]
  },
  {
   "cell_type": "code",
   "execution_count": 9,
   "id": "secure-leisure",
   "metadata": {},
   "outputs": [
    {
     "data": {
      "image/png": "[encoded data removed]",
      "text/plain": [
       "<Figure size 432x288 with 1 Axes>"
      ]
     },
     "metadata": {
      "needs_background": "light"
     },
     "output_type": "display_data"
    }
   ],
   "source": [
    "_, bins, _ = plt.hist(series_2) \n",
    "plt.plot(bins, np.ones_like(bins), linewidth=2, color='r')\n",
    "plt.show()"
   ]
  },
  {
   "cell_type": "markdown",
   "id": "adverse-incentive",
   "metadata": {},
   "source": [
    "### Непрерывное распределение с выбросами: диаграмма размаха и гистограмма"
   ]
  },
  {
   "cell_type": "code",
   "execution_count": 10,
   "id": "built-sleeve",
   "metadata": {},
   "outputs": [
    {
     "data": {
      "text/plain": [
       "<AxesSubplot:ylabel='Frequency'>"
      ]
     },
     "execution_count": 10,
     "metadata": {},
     "output_type": "execute_result"
    },
    {
     "data": {
      "image/png": "[encoded data removed]",
      "text/plain": [
       "<Figure size 432x288 with 1 Axes>"
      ]
     },
     "metadata": {
      "needs_background": "light"
     },
     "output_type": "display_data"
    }
   ],
   "source": [
    "#!/usr/local/bin/python3\n",
    "# -*- coding: utf-8 -*-\n",
    "from time import time\n",
    "import matplotlib.pyplot as plt \n",
    "import numpy as np\n",
    "np.random.seed(int(time()))\n",
    "distribution = (np.random.rand(50)*100).astype(int)\n",
    "center = np.ones(5) * 50\n",
    "high_outliers = (np.random.rand(10)*200).astype(int)\n",
    "low_outliers = (np.random.rand(10)*-100).astype(int)\n",
    "series = np.concatenate((distribution, center, high_outliers, low_outliers)) \n",
    "pd.Series(series).plot.hist(bins = 50)"
   ]
  },
  {
   "cell_type": "code",
   "execution_count": 11,
   "id": "recent-correspondence",
   "metadata": {},
   "outputs": [
    {
     "data": {
      "text/plain": [
       "<AxesSubplot:ylabel='Density'>"
      ]
     },
     "execution_count": 11,
     "metadata": {},
     "output_type": "execute_result"
    },
    {
     "data": {
      "image/png": "[encoded data removed]",
      "text/plain": [
       "<Figure size 432x288 with 1 Axes>"
      ]
     },
     "metadata": {
      "needs_background": "light"
     },
     "output_type": "display_data"
    }
   ],
   "source": [
    "pd.Series(series).plot.density()"
   ]
  },
  {
   "cell_type": "code",
   "execution_count": 13,
   "id": "overall-basketball",
   "metadata": {},
   "outputs": [
    {
     "name": "stderr",
     "output_type": "stream",
     "text": [
      "/usr/local/lib/python3.9/site-packages/seaborn/distributions.py:2619: FutureWarning: `distplot` is a deprecated function and will be removed in a future version. Please adapt your code to use either `displot` (a figure-level function with similar flexibility) or `histplot` (an axes-level function for histograms).\n",
      "  warnings.warn(msg, FutureWarning)\n"
     ]
    },
    {
     "data": {
      "text/plain": [
       "<AxesSubplot:ylabel='Density'>"
      ]
     },
     "execution_count": 13,
     "metadata": {},
     "output_type": "execute_result"
    },
    {
     "data": {
      "image/png": "[encoded data removed]",
      "text/plain": [
       "<Figure size 432x288 with 1 Axes>"
      ]
     },
     "metadata": {
      "needs_background": "light"
     },
     "output_type": "display_data"
    }
   ],
   "source": [
    "import seaborn as sns\n",
    "sns.distplot(series, bins=50)"
   ]
  },
  {
   "cell_type": "code",
   "execution_count": 18,
   "id": "precise-captain",
   "metadata": {},
   "outputs": [
    {
     "data": {
      "text/plain": [
       "<AxesSubplot:ylabel='Frequency'>"
      ]
     },
     "execution_count": 18,
     "metadata": {},
     "output_type": "execute_result"
    },
    {
     "data": {
      "image/png": "[encoded data removed]",
      "text/plain": [
       "<Figure size 432x288 with 1 Axes>"
      ]
     },
     "metadata": {
      "needs_background": "light"
     },
     "output_type": "display_data"
    }
   ],
   "source": [
    "pd.Series(series_2).plot.hist()"
   ]
  },
  {
   "cell_type": "code",
   "execution_count": 20,
   "id": "indian-generic",
   "metadata": {},
   "outputs": [
    {
     "data": {
      "text/plain": [
       "<AxesSubplot:>"
      ]
     },
     "execution_count": 20,
     "metadata": {},
     "output_type": "execute_result"
    },
    {
     "data": {
      "image/png": "[encoded data removed]",
      "text/plain": [
       "<Figure size 432x288 with 1 Axes>"
      ]
     },
     "metadata": {
      "needs_background": "light"
     },
     "output_type": "display_data"
    }
   ],
   "source": [
    "pd.Series(series_2).plot.box()"
   ]
  },
  {
   "cell_type": "code",
   "execution_count": 21,
   "id": "normal-philip",
   "metadata": {},
   "outputs": [
    {
     "data": {
      "text/plain": [
       "52.19701679094074"
      ]
     },
     "execution_count": 21,
     "metadata": {},
     "output_type": "execute_result"
    }
   ],
   "source": [
    "series_2.mean()"
   ]
  },
  {
   "cell_type": "code",
   "execution_count": 25,
   "id": "sustained-newman",
   "metadata": {},
   "outputs": [
    {
     "data": {
      "text/plain": [
       "(55.0045914926403, 55.0045914926403)"
      ]
     },
     "execution_count": 25,
     "metadata": {},
     "output_type": "execute_result"
    }
   ],
   "source": [
    "pd.Series(series_2).quantile(q=0.5), pd.Series(series_2).median()"
   ]
  },
  {
   "cell_type": "code",
   "execution_count": 27,
   "id": "residential-security",
   "metadata": {},
   "outputs": [
    {
     "data": {
      "text/plain": [
       "(24.38514608481398, 24.63271736685222)"
      ]
     },
     "execution_count": 27,
     "metadata": {},
     "output_type": "execute_result"
    }
   ],
   "source": [
    "pd.Series(series_2).std(ddof=0), pd.Series(series_2).std(ddof=1)"
   ]
  }
 ],
 "metadata": {
  "kernelspec": {
   "display_name": "Python 3",
   "language": "python",
   "name": "python3"
  },
  "language_info": {
   "codemirror_mode": {
    "name": "ipython",
    "version": 3
   },
   "file_extension": ".py",
   "mimetype": "text/x-python",
   "name": "python",
   "nbconvert_exporter": "python",
   "pygments_lexer": "ipython3",
   "version": "3.9.5"
  }
 },
 "nbformat": 4,
 "nbformat_minor": 5
}
